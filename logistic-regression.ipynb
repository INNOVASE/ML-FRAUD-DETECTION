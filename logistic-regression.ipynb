{
 "cells": [
  {
   "cell_type": "markdown",
   "metadata": {},
   "source": [
    "# Credit Card Fraud"
   ]
  },
  {
   "cell_type": "markdown",
   "metadata": {},
   "source": [
    "We will be detecting credit card fraud based on the different features of our dataset with 3 different models. Here is the Logistic Regression one.\n",
    "\n",
    "We're looking to minimize the False Negative Rate or FNR.\n",
    "\n",
    "Since the dataset is unbalanced, we can try two techniques that may help us have better predictions:\n",
    "\n",
    "    - Adding some noise (gaussian) to the fraud data to create more and reduce the imbalance\n",
    "    - Randomly sample the fraud data and train k models and average them out (or choose the best)\n",
    "    \n",
    " "
   ]
  },
  {
   "cell_type": "code",
   "execution_count": 1,
   "metadata": {},
   "outputs": [],
   "source": [
    "import numpy as np\n",
    "import sklearn as sk\n",
    "import pandas as pd\n",
    "import matplotlib.pyplot as plt\n",
    "from pandas_ml import ConfusionMatrix\n",
    "import pandas_ml as pdml\n",
    "from sklearn.preprocessing import scale\n",
    "import random"
   ]
  },
  {
   "cell_type": "code",
   "execution_count": 2,
   "metadata": {
    "collapsed": true
   },
   "outputs": [],
   "source": [
    "# May have to do this...\n",
    "#!pip install imblearn\n",
    "#!pip install --upgrade sklearn"
   ]
  },
  {
   "cell_type": "code",
   "execution_count": 3,
   "metadata": {},
   "outputs": [
    {
     "data": {
      "text/html": [
       "<div>\n",
       "<style>\n",
       "    .dataframe thead tr:only-child th {\n",
       "        text-align: right;\n",
       "    }\n",
       "\n",
       "    .dataframe thead th {\n",
       "        text-align: left;\n",
       "    }\n",
       "\n",
       "    .dataframe tbody tr th {\n",
       "        vertical-align: top;\n",
       "    }\n",
       "</style>\n",
       "<table border=\"1\" class=\"dataframe\">\n",
       "  <thead>\n",
       "    <tr style=\"text-align: right;\">\n",
       "      <th></th>\n",
       "      <th>Time</th>\n",
       "      <th>V1</th>\n",
       "      <th>V2</th>\n",
       "      <th>V3</th>\n",
       "      <th>V4</th>\n",
       "      <th>V5</th>\n",
       "      <th>V6</th>\n",
       "      <th>V7</th>\n",
       "      <th>V8</th>\n",
       "      <th>V9</th>\n",
       "      <th>...</th>\n",
       "      <th>V21</th>\n",
       "      <th>V22</th>\n",
       "      <th>V23</th>\n",
       "      <th>V24</th>\n",
       "      <th>V25</th>\n",
       "      <th>V26</th>\n",
       "      <th>V27</th>\n",
       "      <th>V28</th>\n",
       "      <th>Amount</th>\n",
       "      <th>Class</th>\n",
       "    </tr>\n",
       "  </thead>\n",
       "  <tbody>\n",
       "    <tr>\n",
       "      <th>0</th>\n",
       "      <td>162979.0</td>\n",
       "      <td>-0.398621</td>\n",
       "      <td>0.838910</td>\n",
       "      <td>-0.071624</td>\n",
       "      <td>-0.598150</td>\n",
       "      <td>-0.078773</td>\n",
       "      <td>-0.963468</td>\n",
       "      <td>0.428441</td>\n",
       "      <td>0.477690</td>\n",
       "      <td>-0.167604</td>\n",
       "      <td>...</td>\n",
       "      <td>-0.172904</td>\n",
       "      <td>-0.627062</td>\n",
       "      <td>0.176389</td>\n",
       "      <td>0.012138</td>\n",
       "      <td>-0.573106</td>\n",
       "      <td>0.123558</td>\n",
       "      <td>0.101395</td>\n",
       "      <td>0.014439</td>\n",
       "      <td>15.54</td>\n",
       "      <td>0</td>\n",
       "    </tr>\n",
       "    <tr>\n",
       "      <th>1</th>\n",
       "      <td>158965.0</td>\n",
       "      <td>2.075510</td>\n",
       "      <td>0.753957</td>\n",
       "      <td>-3.030008</td>\n",
       "      <td>0.789103</td>\n",
       "      <td>1.163779</td>\n",
       "      <td>-1.758843</td>\n",
       "      <td>0.867675</td>\n",
       "      <td>-0.524649</td>\n",
       "      <td>-0.110271</td>\n",
       "      <td>...</td>\n",
       "      <td>-0.031989</td>\n",
       "      <td>0.154722</td>\n",
       "      <td>0.000402</td>\n",
       "      <td>0.936907</td>\n",
       "      <td>0.362391</td>\n",
       "      <td>0.659139</td>\n",
       "      <td>-0.073277</td>\n",
       "      <td>-0.008177</td>\n",
       "      <td>0.76</td>\n",
       "      <td>0</td>\n",
       "    </tr>\n",
       "    <tr>\n",
       "      <th>2</th>\n",
       "      <td>159215.0</td>\n",
       "      <td>-1.149012</td>\n",
       "      <td>1.127929</td>\n",
       "      <td>0.908908</td>\n",
       "      <td>-0.161568</td>\n",
       "      <td>0.865542</td>\n",
       "      <td>-0.542331</td>\n",
       "      <td>2.480378</td>\n",
       "      <td>-1.708962</td>\n",
       "      <td>0.726265</td>\n",
       "      <td>...</td>\n",
       "      <td>-0.025361</td>\n",
       "      <td>0.770027</td>\n",
       "      <td>-0.809118</td>\n",
       "      <td>-0.073667</td>\n",
       "      <td>0.651394</td>\n",
       "      <td>-0.028865</td>\n",
       "      <td>-1.792108</td>\n",
       "      <td>-0.921604</td>\n",
       "      <td>110.08</td>\n",
       "      <td>0</td>\n",
       "    </tr>\n",
       "    <tr>\n",
       "      <th>3</th>\n",
       "      <td>135295.0</td>\n",
       "      <td>1.412735</td>\n",
       "      <td>-1.959681</td>\n",
       "      <td>-1.562226</td>\n",
       "      <td>-0.244369</td>\n",
       "      <td>-1.329954</td>\n",
       "      <td>-0.935500</td>\n",
       "      <td>-0.460575</td>\n",
       "      <td>-0.195421</td>\n",
       "      <td>0.217260</td>\n",
       "      <td>...</td>\n",
       "      <td>0.445884</td>\n",
       "      <td>0.457540</td>\n",
       "      <td>-0.234395</td>\n",
       "      <td>-0.222793</td>\n",
       "      <td>-0.311988</td>\n",
       "      <td>-0.117212</td>\n",
       "      <td>-0.051091</td>\n",
       "      <td>0.050802</td>\n",
       "      <td>399.00</td>\n",
       "      <td>0</td>\n",
       "    </tr>\n",
       "    <tr>\n",
       "      <th>4</th>\n",
       "      <td>121807.0</td>\n",
       "      <td>2.018408</td>\n",
       "      <td>0.103174</td>\n",
       "      <td>-1.606559</td>\n",
       "      <td>0.347041</td>\n",
       "      <td>0.370798</td>\n",
       "      <td>-0.666449</td>\n",
       "      <td>0.078520</td>\n",
       "      <td>-0.094513</td>\n",
       "      <td>0.240136</td>\n",
       "      <td>...</td>\n",
       "      <td>-0.301893</td>\n",
       "      <td>-0.807913</td>\n",
       "      <td>0.351811</td>\n",
       "      <td>0.666430</td>\n",
       "      <td>-0.317476</td>\n",
       "      <td>0.142966</td>\n",
       "      <td>-0.067118</td>\n",
       "      <td>-0.038957</td>\n",
       "      <td>1.98</td>\n",
       "      <td>0</td>\n",
       "    </tr>\n",
       "  </tbody>\n",
       "</table>\n",
       "<p>5 rows × 31 columns</p>\n",
       "</div>"
      ],
      "text/plain": [
       "       Time        V1        V2        V3        V4        V5        V6  \\\n",
       "0  162979.0 -0.398621  0.838910 -0.071624 -0.598150 -0.078773 -0.963468   \n",
       "1  158965.0  2.075510  0.753957 -3.030008  0.789103  1.163779 -1.758843   \n",
       "2  159215.0 -1.149012  1.127929  0.908908 -0.161568  0.865542 -0.542331   \n",
       "3  135295.0  1.412735 -1.959681 -1.562226 -0.244369 -1.329954 -0.935500   \n",
       "4  121807.0  2.018408  0.103174 -1.606559  0.347041  0.370798 -0.666449   \n",
       "\n",
       "         V7        V8        V9  ...         V21       V22       V23  \\\n",
       "0  0.428441  0.477690 -0.167604  ...   -0.172904 -0.627062  0.176389   \n",
       "1  0.867675 -0.524649 -0.110271  ...   -0.031989  0.154722  0.000402   \n",
       "2  2.480378 -1.708962  0.726265  ...   -0.025361  0.770027 -0.809118   \n",
       "3 -0.460575 -0.195421  0.217260  ...    0.445884  0.457540 -0.234395   \n",
       "4  0.078520 -0.094513  0.240136  ...   -0.301893 -0.807913  0.351811   \n",
       "\n",
       "        V24       V25       V26       V27       V28  Amount  Class  \n",
       "0  0.012138 -0.573106  0.123558  0.101395  0.014439   15.54      0  \n",
       "1  0.936907  0.362391  0.659139 -0.073277 -0.008177    0.76      0  \n",
       "2 -0.073667  0.651394 -0.028865 -1.792108 -0.921604  110.08      0  \n",
       "3 -0.222793 -0.311988 -0.117212 -0.051091  0.050802  399.00      0  \n",
       "4  0.666430 -0.317476  0.142966 -0.067118 -0.038957    1.98      0  \n",
       "\n",
       "[5 rows x 31 columns]"
      ]
     },
     "execution_count": 3,
     "metadata": {},
     "output_type": "execute_result"
    }
   ],
   "source": [
    "df = pd.read_csv('creditcard.csv', low_memory=False)\n",
    "df = df.sample(frac=1).reset_index(drop=True)\n",
    "df.head()"
   ]
  },
  {
   "cell_type": "code",
   "execution_count": 4,
   "metadata": {},
   "outputs": [
    {
     "name": "stdout",
     "output_type": "stream",
     "text": [
      "We have 492 fraud data points and 284315 nonfraudulent data points.\n"
     ]
    }
   ],
   "source": [
    "frauds = df.loc[df['Class'] == 1]\n",
    "non_frauds = df.loc[df['Class'] == 0]\n",
    "print(\"We have\", len(frauds), \"fraud data points and\", len(non_frauds), \"nonfraudulent data points.\")"
   ]
  },
  {
   "cell_type": "code",
   "execution_count": 5,
   "metadata": {},
   "outputs": [
    {
     "data": {
      "image/png": "[encoded data removed]",
      "text/plain": [
       "<matplotlib.figure.Figure at 0x116c345f8>"
      ]
     },
     "metadata": {},
     "output_type": "display_data"
    },
    {
     "name": "stdout",
     "output_type": "stream",
     "text": [
      "This feature looks important based on their distribution with respect to class.\n",
      "We will now zoom in onto the fraud data to see the ranges of amount just for fun.\n"
     ]
    }
   ],
   "source": [
    "ax = frauds.plot.scatter(x='Amount', y='Class', color='Orange', label='Fraud')\n",
    "non_frauds.plot.scatter(x='Amount', y='Class', color='Blue', label='Normal', ax=ax)\n",
    "plt.show()\n",
    "print(\"This feature looks important based on their distribution with respect to class.\")\n",
    "print(\"We will now zoom in onto the fraud data to see the ranges of amount just for fun.\")"
   ]
  },
  {
   "cell_type": "code",
   "execution_count": 6,
   "metadata": {},
   "outputs": [
    {
     "data": {
      "image/png": "[encoded data removed]",
      "text/plain": [
       "<matplotlib.figure.Figure at 0x116bff9e8>"
      ]
     },
     "metadata": {},
     "output_type": "display_data"
    }
   ],
   "source": [
    "bx = frauds.plot.scatter(x='Amount', y='Class', color='Orange', label='Fraud')\n",
    "plt.show()"
   ]
  },
  {
   "cell_type": "code",
   "execution_count": 7,
   "metadata": {},
   "outputs": [
    {
     "data": {
      "image/png": "[encoded data removed]",
      "text/plain": [
       "<matplotlib.figure.Figure at 0x1121b25f8>"
      ]
     },
     "metadata": {},
     "output_type": "display_data"
    },
    {
     "name": "stdout",
     "output_type": "stream",
     "text": [
      "This feature may not be very important because of the similar distribution.\n"
     ]
    }
   ],
   "source": [
    "ax = frauds.plot.scatter(x='V22', y='Class', color='Orange', label='Fraud')\n",
    "non_frauds.plot.scatter(x='V22', y='Class', color='Blue', label='Normal', ax=ax)\n",
    "plt.show()\n",
    "print(\"This feature may not be very important because of the similar distribution.\")"
   ]
  },
  {
   "cell_type": "markdown",
   "metadata": {},
   "source": [
    "# Logistic Regression (vanilla)"
   ]
  },
  {
   "cell_type": "code",
   "execution_count": 8,
   "metadata": {
    "collapsed": true
   },
   "outputs": [],
   "source": [
    "from sklearn import datasets, linear_model\n",
    "from sklearn.preprocessing import PolynomialFeatures\n",
    "from sklearn.model_selection import train_test_split"
   ]
  },
  {
   "cell_type": "code",
   "execution_count": 9,
   "metadata": {},
   "outputs": [
    {
     "name": "stdout",
     "output_type": "stream",
     "text": [
      "X and y sizes, respectively: 284807 284807\n",
      "Train and test sizes, respectively: 185124 185124 | 99683 99683\n",
      "Total number of frauds: 492 0.001727485630620034\n",
      "Number of frauds on y_test: 154 0.0015448973245187243\n",
      "Number of frauds on y_train: 338 0.0018258032453922777\n"
     ]
    }
   ],
   "source": [
    "X = df.iloc[:,:-1]\n",
    "y = df['Class']\n",
    "\n",
    "print(\"X and y sizes, respectively:\", len(X), len(y))\n",
    "\n",
    "X_train, X_test, y_train, y_test = train_test_split(X, y, test_size=0.35)\n",
    "print(\"Train and test sizes, respectively:\", len(X_train), len(y_train), \"|\", len(X_test), len(y_test))\n",
    "print(\"Total number of frauds:\", len(y.loc[df['Class'] == 1]), len(y.loc[df['Class'] == 1])/len(y))\n",
    "print(\"Number of frauds on y_test:\", len(y_test.loc[df['Class'] == 1]), len(y_test.loc[df['Class'] == 1]) / len(y_test))\n",
    "print(\"Number of frauds on y_train:\", len(y_train.loc[df['Class'] == 1]), len(y_train.loc[df['Class'] == 1])/len(y_train))"
   ]
  },
  {
   "cell_type": "code",
   "execution_count": 10,
   "metadata": {},
   "outputs": [
    {
     "name": "stdout",
     "output_type": "stream",
     "text": [
      "Score:  0.998966724517\n"
     ]
    }
   ],
   "source": [
    "logistic = linear_model.LogisticRegression(C=1e5)\n",
    "logistic.fit(X_train, y_train)\n",
    "print(\"Score: \", logistic.score(X_test, y_test))"
   ]
  },
  {
   "cell_type": "code",
   "execution_count": 11,
   "metadata": {},
   "outputs": [],
   "source": [
    "y_predicted = np.array(logistic.predict(X_test))\n",
    "y_right = np.array(y_test)"
   ]
  },
  {
   "cell_type": "code",
   "execution_count": 12,
   "metadata": {},
   "outputs": [
    {
     "name": "stdout",
     "output_type": "stream",
     "text": [
      "Confusion matrix:\n",
      "Predicted      0    1  __all__\n",
      "Actual                        \n",
      "0          99486   43    99529\n",
      "1             60   94      154\n",
      "__all__    99546  137    99683\n"
     ]
    },
    {
     "data": {
      "image/png": "[encoded data removed]",
      "text/plain": [
       "<matplotlib.figure.Figure at 0x118dec668>"
      ]
     },
     "metadata": {},
     "output_type": "display_data"
    },
    {
     "name": "stdout",
     "output_type": "stream",
     "text": [
      "population: 99683\n",
      "P: 154\n",
      "N: 99529\n",
      "PositiveTest: 137\n",
      "NegativeTest: 99546\n",
      "TP: 94\n",
      "TN: 99486\n",
      "FP: 43\n",
      "FN: 60\n",
      "TPR: 0.61038961039\n",
      "TNR: 0.999567965116\n",
      "PPV: 0.686131386861\n",
      "NPV: 0.999397263577\n",
      "FPR: 0.000432034884305\n",
      "FDR: 0.313868613139\n",
      "FNR: 0.38961038961\n",
      "ACC: 0.998966724517\n",
      "F1_score: 0.646048109966\n",
      "MCC: 0.646640080385\n",
      "informedness: 0.609957575505\n",
      "markedness: 0.685528650438\n",
      "prevalence: 0.00154489732452\n",
      "LRP: 1412.82482634\n",
      "LRN: 0.389778787644\n",
      "DOR: 3624.68372093\n",
      "FOR: 0.000602736423362\n"
     ]
    }
   ],
   "source": [
    "confusion_matrix = ConfusionMatrix(y_right, y_predicted)\n",
    "print(\"Confusion matrix:\\n%s\" % confusion_matrix)\n",
    "confusion_matrix.plot(normalized=True)\n",
    "plt.show()\n",
    "confusion_matrix.print_stats()"
   ]
  },
  {
   "cell_type": "code",
   "execution_count": 13,
   "metadata": {},
   "outputs": [
    {
     "name": "stdout",
     "output_type": "stream",
     "text": [
      "FNR is 0.38961038961038963\n"
     ]
    }
   ],
   "source": [
    "print(\"FNR is {0}\".format(confusion_matrix.stats()['FNR']))"
   ]
  },
  {
   "cell_type": "markdown",
   "metadata": {},
   "source": [
    "# Logistic Regression with SMOTE over-sampling"
   ]
  },
  {
   "cell_type": "code",
   "execution_count": 14,
   "metadata": {},
   "outputs": [
    {
     "name": "stdout",
     "output_type": "stream",
     "text": [
      "Size of training set after over sampling: 369572\n"
     ]
    }
   ],
   "source": [
    "df2 = pdml.ModelFrame(X_train, target=y_train)\n",
    "sampler = df2.imbalance.over_sampling.SMOTE()\n",
    "sampled = df2.fit_sample(sampler)\n",
    "print(\"Size of training set after over sampling:\", len(sampled))"
   ]
  },
  {
   "cell_type": "code",
   "execution_count": 15,
   "metadata": {},
   "outputs": [
    {
     "name": "stdout",
     "output_type": "stream",
     "text": [
      "Score:  0.984902139783\n"
     ]
    }
   ],
   "source": [
    "X_train_sampled = sampled.iloc[:,1:]\n",
    "y_train_sampled = sampled['Class']\n",
    "\n",
    "# NOTE: Scaling makes it worse.\n",
    "# X_train_sampled = scale(X_train_sampled)\n",
    "\n",
    "logistic = linear_model.LogisticRegression(C=1e5)\n",
    "logistic.fit(X_train_sampled, y_train_sampled)\n",
    "print(\"Score: \", logistic.score(X_test, y_test))"
   ]
  },
  {
   "cell_type": "code",
   "execution_count": 16,
   "metadata": {},
   "outputs": [
    {
     "name": "stdout",
     "output_type": "stream",
     "text": [
      "Confusion matrix:\n",
      "Predicted      0     1  __all__\n",
      "Actual                         \n",
      "0          98044  1485    99529\n",
      "1             20   134      154\n",
      "__all__    98064  1619    99683\n"
     ]
    },
    {
     "data": {
      "image/png": "[encoded data removed]",
      "text/plain": [
       "<matplotlib.figure.Figure at 0x117f35048>"
      ]
     },
     "metadata": {},
     "output_type": "display_data"
    },
    {
     "name": "stdout",
     "output_type": "stream",
     "text": [
      "population: 99683\n",
      "P: 154\n",
      "N: 99529\n",
      "PositiveTest: 1619\n",
      "NegativeTest: 98064\n",
      "TP: 134\n",
      "TN: 98044\n",
      "FP: 1485\n",
      "FN: 20\n",
      "TPR: 0.87012987013\n",
      "TNR: 0.985079725507\n",
      "PPV: 0.08276714021\n",
      "NPV: 0.999796051558\n",
      "FPR: 0.0149202744929\n",
      "FDR: 0.91723285979\n",
      "FNR: 0.12987012987\n",
      "ACC: 0.984902139783\n",
      "F1_score: 0.151156232375\n",
      "MCC: 0.265723227902\n",
      "informedness: 0.855209595637\n",
      "markedness: 0.0825631917682\n",
      "prevalence: 0.00154489732452\n",
      "LRP: 58.3186234641\n",
      "LRN: 0.131837176735\n",
      "DOR: 442.353400673\n",
      "FOR: 0.000203948441834\n"
     ]
    }
   ],
   "source": [
    "y_predicted1 = np.array(logistic.predict(X_test))\n",
    "y_right1 = np.array(y_test)\n",
    "\n",
    "confusion_matrix1 = ConfusionMatrix(y_right1, y_predicted1)\n",
    "print(\"Confusion matrix:\\n%s\" % confusion_matrix1)\n",
    "confusion_matrix1.plot(normalized=True)\n",
    "plt.show()\n",
    "confusion_matrix1.print_stats()"
   ]
  },
  {
   "cell_type": "code",
   "execution_count": 17,
   "metadata": {},
   "outputs": [
    {
     "name": "stdout",
     "output_type": "stream",
     "text": [
      "FNR is 0.12987012987012986\n"
     ]
    }
   ],
   "source": [
    "print(\"FNR is {0}\".format(confusion_matrix1.stats()['FNR']))"
   ]
  },
  {
   "cell_type": "markdown",
   "metadata": {},
   "source": [
    "# Logistic Regression with balanced class weights"
   ]
  },
  {
   "cell_type": "code",
   "execution_count": 19,
   "metadata": {},
   "outputs": [
    {
     "name": "stdout",
     "output_type": "stream",
     "text": [
      "Best C is 5315.534060359721 with best FNR of 0.09740259740259741.\n"
     ]
    }
   ],
   "source": [
    "best_c, best_fnr = 1, 1\n",
    "for _ in range(20):\n",
    "    c = random.uniform(1, 10000)\n",
    "    logistic = linear_model.LogisticRegression(C=c, class_weight=\"balanced\")\n",
    "    logistic.fit(X_train, y_train)\n",
    "    #print(\"Score: \", logistic.score(X_test, y_test))\n",
    "    y_predicted2 = np.array(logistic.predict(X_test))\n",
    "    y_right2 = np.array(y_test)\n",
    "    confusion_matrix2 = ConfusionMatrix(y_right2, y_predicted2)\n",
    "    #print(\"Confusion matrix:\\n%s\" % confusion_matrix2)\n",
    "    #confusion_matrix2.plot(normalized=True)\n",
    "    #plt.show()\n",
    "    #confusion_matrix2.print_stats()\n",
    "    fnr = confusion_matrix2.stats()['FNR']\n",
    "    if fnr < best_fnr:\n",
    "        best_fnr = fnr\n",
    "        best_c = c\n",
    "print(\"Best C is {0} with best FNR of {1}.\".format(best_c, best_fnr))"
   ]
  },
  {
   "cell_type": "code",
   "execution_count": null,
   "metadata": {
    "collapsed": true
   },
   "outputs": [],
   "source": []
  }
 ],
 "metadata": {
  "anaconda-cloud": {},
  "kernelspec": {
   "display_name": "Python 3",
   "language": "python",
   "name": "python3"
  },
  "language_info": {
   "codemirror_mode": {
    "name": "ipython",
    "version": 3
   },
   "file_extension": ".py",
   "mimetype": "text/x-python",
   "name": "python",
   "nbconvert_exporter": "python",
   "pygments_lexer": "ipython3",
   "version": "3.6.1"
  }
 },
 "nbformat": 4,
 "nbformat_minor": 1
}
